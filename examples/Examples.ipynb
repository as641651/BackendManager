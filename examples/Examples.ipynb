{
 "cells": [
  {
   "cell_type": "code",
   "execution_count": 2,
   "id": "63da28a3",
   "metadata": {},
   "outputs": [],
   "source": [
    "from backend_manager import BackendManager\n",
    "from backend_manager import Commands"
   ]
  },
  {
   "cell_type": "markdown",
   "id": "64e684f3",
   "metadata": {},
   "source": [
    "#### 1) Connect to backend\n",
    "\n",
    "SSH fingerprint have to be setup on the machine from which the class is instantiated"
   ]
  },
  {
   "cell_type": "code",
   "execution_count": 8,
   "id": "763ecba5",
   "metadata": {},
   "outputs": [],
   "source": [
    "bm = BackendManager(server=\"login18-1.hpc.itc.rwth-aachen.de\", uname=\"as641651\")"
   ]
  },
  {
   "cell_type": "code",
   "execution_count": 9,
   "id": "2b638f55",
   "metadata": {},
   "outputs": [],
   "source": [
    "bm.connect()"
   ]
  },
  {
   "cell_type": "markdown",
   "id": "db335cd3",
   "metadata": {},
   "source": [
    "### Applications"
   ]
  },
  {
   "cell_type": "markdown",
   "id": "3d2e24bb",
   "metadata": {},
   "source": [
    "####  1) Check if a file exists in the backend"
   ]
  },
  {
   "cell_type": "code",
   "execution_count": 7,
   "id": "c3e37c15",
   "metadata": {},
   "outputs": [
    {
     "data": {
      "text/plain": [
       "True"
      ]
     },
     "execution_count": 7,
     "metadata": {},
     "output_type": "execute_result"
    }
   ],
   "source": [
    "bm.check_if_file_exists(\"~/pascal_voc.py\")"
   ]
  },
  {
   "cell_type": "markdown",
   "id": "db17966b",
   "metadata": {},
   "source": [
    "#### 2) Copy file from backend"
   ]
  },
  {
   "cell_type": "code",
   "execution_count": 12,
   "id": "3c0bf158",
   "metadata": {},
   "outputs": [
    {
     "name": "stdout",
     "output_type": "stream",
     "text": [
      "scp as641651@login18-1.hpc.itc.rwth-aachen.de:~/pascal_voc.py .\n",
      "b''\n"
     ]
    },
    {
     "data": {
      "text/plain": [
       "0"
      ]
     },
     "execution_count": 12,
     "metadata": {},
     "output_type": "execute_result"
    }
   ],
   "source": [
    "bm.copy_from_backend(backend_path=\"~/pascal_voc.py\", local_path=\".\")"
   ]
  },
  {
   "cell_type": "markdown",
   "id": "4ff06ef2",
   "metadata": {},
   "source": [
    "#### 4) Build and Run commands"
   ]
  },
  {
   "cell_type": "code",
   "execution_count": 22,
   "id": "c8fa30a7",
   "metadata": {},
   "outputs": [],
   "source": [
    "cmds = Commands()"
   ]
  },
  {
   "cell_type": "code",
   "execution_count": 16,
   "id": "e68ded4f",
   "metadata": {},
   "outputs": [
    {
     "data": {
      "text/plain": [
       "'cd ~; python hello_world.py '"
      ]
     },
     "execution_count": 16,
     "metadata": {},
     "output_type": "execute_result"
    }
   ],
   "source": [
    "cmd = cmds.build_cmd(\"python\", \"~/hello_world.py\")\n",
    "cmd"
   ]
  },
  {
   "cell_type": "code",
   "execution_count": 17,
   "id": "90c4f40a",
   "metadata": {},
   "outputs": [
    {
     "name": "stdout",
     "output_type": "stream",
     "text": [
      "cd ~; python hello_world.py \n"
     ]
    }
   ],
   "source": [
    "stdout, ret_code = bm.run_cmd(cmd)"
   ]
  },
  {
   "cell_type": "code",
   "execution_count": 18,
   "id": "2f9be379",
   "metadata": {},
   "outputs": [
    {
     "data": {
      "text/plain": [
       "0"
      ]
     },
     "execution_count": 18,
     "metadata": {},
     "output_type": "execute_result"
    }
   ],
   "source": [
    "ret_code"
   ]
  },
  {
   "cell_type": "code",
   "execution_count": 19,
   "id": "22a19c82",
   "metadata": {},
   "outputs": [
    {
     "data": {
      "text/plain": [
       "['Hello world\\n']"
      ]
     },
     "execution_count": 19,
     "metadata": {},
     "output_type": "execute_result"
    }
   ],
   "source": [
    "stdout.readlines()"
   ]
  },
  {
   "cell_type": "markdown",
   "id": "31271195",
   "metadata": {},
   "source": [
    "#### 5) Build and execute commands on a batch system\n",
    "\n",
    "A submit script should be available on the backend"
   ]
  },
  {
   "cell_type": "code",
   "execution_count": 51,
   "id": "7d4bf729",
   "metadata": {},
   "outputs": [
    {
     "data": {
      "text/plain": [
       "\"cd ~; sbatch slurm_submit.sh python 'hello_world.py '\""
      ]
     },
     "execution_count": 51,
     "metadata": {},
     "output_type": "execute_result"
    }
   ],
   "source": [
    "cmd = cmds.submit_job_cmd(\"sbatch slurm_submit.sh\", \"python\", \"~/hello_world.py\")\n",
    "cmd"
   ]
  },
  {
   "cell_type": "code",
   "execution_count": 57,
   "id": "732868eb",
   "metadata": {},
   "outputs": [
    {
     "name": "stdout",
     "output_type": "stream",
     "text": [
      "cd ~; sbatch slurm_submit.sh python 'hello_world.py '\n"
     ]
    }
   ],
   "source": [
    "stdout, ret_code = bm.run_cmd(cmd)"
   ]
  },
  {
   "cell_type": "code",
   "execution_count": 58,
   "id": "10def51a",
   "metadata": {},
   "outputs": [
    {
     "data": {
      "text/plain": [
       "['Submitted batch job 28776139\\n']"
      ]
     },
     "execution_count": 58,
     "metadata": {},
     "output_type": "execute_result"
    }
   ],
   "source": [
    "stdout.readlines()"
   ]
  },
  {
   "cell_type": "code",
   "execution_count": 59,
   "id": "655f8802",
   "metadata": {},
   "outputs": [
    {
     "name": "stdout",
     "output_type": "stream",
     "text": [
      "['             JOBID PARTITION                           NAME     USER    STATE       TIME TIME_LIMI  NODES NODELIST(REASON)\\n']\n"
     ]
    },
    {
     "data": {
      "text/plain": [
       "0"
      ]
     },
     "execution_count": 59,
     "metadata": {},
     "output_type": "execute_result"
    }
   ],
   "source": [
    "bm.check_slrum_status(jobname=\"Hello\")# jobname should match the name in the submit script"
   ]
  },
  {
   "cell_type": "markdown",
   "id": "23bda354",
   "metadata": {},
   "source": [
    "#### 6) Build custom commands"
   ]
  },
  {
   "cell_type": "code",
   "execution_count": 60,
   "id": "8c5b1040",
   "metadata": {},
   "outputs": [],
   "source": [
    "class MyCommands(Commands):\n",
    "    def __init__(self, source=\"\", submit_cmd=None):\n",
    "        super().__init__(source)\n",
    "        \n",
    "        self.submit_cmd = submit_cmd\n",
    "        \n",
    "        self.interactive = True\n",
    "        if self.submit_cmd:\n",
    "            self.interactive = False\n",
    "        \n",
    "    def run_julia_cmd(self, script_path, args=\"\"):\n",
    "        if  self.interactive:\n",
    "            cmd = self.build_cmd(\"julia\", script_path, args)\n",
    "        else:\n",
    "            cmd = self.submit_job_cmd(self.submit_cmd, \"julia\", script_path, args)\n",
    "        return cmd\n",
    "    \n",
    "    def run_python_cmd(self, script_path, args=\"\"):\n",
    "        if  self.interactive:\n",
    "            cmd = self.build_cmd(\"python\", script_path, args)\n",
    "        else:\n",
    "            cmd = self.submit_job_cmd(self.submit_cmd, \"python\", script_path, args)\n",
    "        return cmd"
   ]
  },
  {
   "cell_type": "code",
   "execution_count": 61,
   "id": "d0613c7e",
   "metadata": {},
   "outputs": [],
   "source": [
    "mc= MyCommands()"
   ]
  },
  {
   "cell_type": "code",
   "execution_count": 62,
   "id": "dda99732",
   "metadata": {},
   "outputs": [
    {
     "data": {
      "text/plain": [
       "'cd ~/PhD; julia runner.jl '"
      ]
     },
     "execution_count": 62,
     "metadata": {},
     "output_type": "execute_result"
    }
   ],
   "source": [
    "mc.run_julia_cmd(\"~/PhD/runner.jl\")"
   ]
  },
  {
   "cell_type": "code",
   "execution_count": null,
   "id": "9fb19e02",
   "metadata": {},
   "outputs": [],
   "source": []
  }
 ],
 "metadata": {
  "kernelspec": {
   "display_name": "Python 3 (ipykernel)",
   "language": "python",
   "name": "python3"
  },
  "language_info": {
   "codemirror_mode": {
    "name": "ipython",
    "version": 3
   },
   "file_extension": ".py",
   "mimetype": "text/x-python",
   "name": "python",
   "nbconvert_exporter": "python",
   "pygments_lexer": "ipython3",
   "version": "3.9.7"
  }
 },
 "nbformat": 4,
 "nbformat_minor": 5
}
