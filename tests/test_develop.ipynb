{
 "cells": [
  {
   "cell_type": "code",
   "execution_count": 1,
   "id": "eeac36ce",
   "metadata": {},
   "outputs": [],
   "source": [
    "from paramiko import SSHClient, AutoAddPolicy\n",
    "import subprocess\n",
    "import os"
   ]
  },
  {
   "cell_type": "code",
   "execution_count": 135,
   "id": "b180d852",
   "metadata": {},
   "outputs": [],
   "source": [
    "class BackendManager:\n",
    "    def __init__(self, server, uname):\n",
    "        self.server = server\n",
    "        self.uname = uname\n",
    "\n",
    "        self.client = SSHClient()\n",
    "        self.client.set_missing_host_key_policy(AutoAddPolicy())\n",
    "        self.connected = False\n",
    "\n",
    "    def connect(self):\n",
    "        self.client.connect(self.server, username=self.uname)\n",
    "        self.connected = True\n",
    "\n",
    "    def close(self):\n",
    "        self.client.close()\n",
    "        self.connected = False\n",
    "\n",
    "    def check_if_file_exists(self, file_path):\n",
    "        if self.connected:\n",
    "            cmd = \"test -f {};\".format(file_path)\n",
    "            _, stdout, _ = self.client.exec_command(cmd)\n",
    "            ret = stdout.channel.recv_exit_status()\n",
    "            if stdout.channel.recv_exit_status() == 0:\n",
    "                return True\n",
    "            return False\n",
    "        return -1\n",
    "\n",
    "\n",
    "    def copy_from_backend(self, backend_path, local_path):\n",
    "        call = 'scp {uname}@{server}:{backend_path} {local_path}'.format(uname=self.uname,\n",
    "                                                                         server=self.server,\n",
    "                                                                         backend_path=backend_path,\n",
    "                                                                         local_path=local_path)\n",
    "        print(call)\n",
    "        try:\n",
    "            ret = subprocess.check_output(call.split())\n",
    "            print(ret)\n",
    "            return 0\n",
    "        except Exception as e:\n",
    "            print(e)\n",
    "            return 1\n",
    "\n",
    "\n",
    "    def run_cmd(self, cmd):\n",
    "        if self.connected:\n",
    "            print(cmd)\n",
    "            _, stdout, _ = self.client.exec_command(cmd)\n",
    "\n",
    "            if stdout.channel.recv_exit_status() == 0:\n",
    "                return stdout, 0\n",
    "            print(\"Error: \", stdout.channel.recv_exit_status())\n",
    "            return stdout, 1\n",
    "\n",
    "        return None, -1\n",
    "\n",
    "    def check_slrum_status(self, jobname):\n",
    "        if self.connected:\n",
    "            cmd = \"squeue --format=\\\"%.18i %.9P %.30j %.8u %.8T %.10M %.9l %.6D %R\\\" --me\"\n",
    "            _, stdout, _ = self.client.exec_command(cmd)\n",
    "            ret = stdout.readlines()\n",
    "            for j in ret:\n",
    "                if jobname in j.split():\n",
    "                    print(j)\n",
    "                    return 2\n",
    "\n",
    "            print(ret)\n",
    "            return 0\n",
    "        return -1\n",
    "        \n",
    "    def debug_cmd(self, cmd):\n",
    "        call = 'ssh -l {} {}'.format(self.uname, self.server).split()\n",
    "        ret = subprocess.check_output(call + [cmd, ])\n",
    "        print(ret)\n"
   ]
  },
  {
   "cell_type": "code",
   "execution_count": 168,
   "id": "4576b2a9",
   "metadata": {},
   "outputs": [],
   "source": [
    "bm = BackendManager(\"login18-1.hpc.itc.rwth-aachen.de\", \"as641651\")"
   ]
  },
  {
   "cell_type": "code",
   "execution_count": 169,
   "id": "5dc628dd",
   "metadata": {},
   "outputs": [],
   "source": [
    "bm.connect()"
   ]
  },
  {
   "cell_type": "code",
   "execution_count": 138,
   "id": "f68b63a2",
   "metadata": {},
   "outputs": [
    {
     "data": {
      "text/plain": [
       "True"
      ]
     },
     "execution_count": 138,
     "metadata": {},
     "output_type": "execute_result"
    }
   ],
   "source": [
    "bm.check_if_file_exists(\"pascal_voc.py\")"
   ]
  },
  {
   "cell_type": "code",
   "execution_count": 139,
   "id": "438f62b7",
   "metadata": {},
   "outputs": [
    {
     "name": "stdout",
     "output_type": "stream",
     "text": [
      "scp as641651@login18-1.hpc.itc.rwth-aachen.de:~/pascal_vo.py .\n",
      "Command '['scp', 'as641651@login18-1.hpc.itc.rwth-aachen.de:~/pascal_vo.py', '.']' returned non-zero exit status 1.\n"
     ]
    },
    {
     "name": "stderr",
     "output_type": "stream",
     "text": [
      "scp: /home/as641651/pascal_vo.py: No such file or directory\n"
     ]
    },
    {
     "data": {
      "text/plain": [
       "1"
      ]
     },
     "execution_count": 139,
     "metadata": {},
     "output_type": "execute_result"
    }
   ],
   "source": [
    "bm.copy_from_backend(\"~/pascal_vo.py\", \".\")"
   ]
  },
  {
   "cell_type": "code",
   "execution_count": 140,
   "id": "e546d46c",
   "metadata": {},
   "outputs": [
    {
     "name": "stdout",
     "output_type": "stream",
     "text": [
      "['             JOBID PARTITION                           NAME     USER    STATE       TIME TIME_LIMI  NODES NODELIST(REASON)\\n']\n"
     ]
    },
    {
     "data": {
      "text/plain": [
       "0"
      ]
     },
     "execution_count": 140,
     "metadata": {},
     "output_type": "execute_result"
    }
   ],
   "source": [
    "bm.check_slrum_status(\"jj\")"
   ]
  },
  {
   "cell_type": "code",
   "execution_count": null,
   "id": "4e3bfee8",
   "metadata": {},
   "outputs": [],
   "source": []
  },
  {
   "cell_type": "code",
   "execution_count": 152,
   "id": "6dd028cd",
   "metadata": {},
   "outputs": [],
   "source": [
    "class Commands:\n",
    "    def __init__(self, source=None):\n",
    "        self.source = source\n",
    "        \n",
    "    def wrap_cmd_with_source(self,cmd):\n",
    "        \"\"\"Source a bash or zsh script before executing every command\"\"\"\n",
    "        if self.source:\n",
    "            source = \"source {}; \".format(self.source)\n",
    "            return source+cmd\n",
    "        return cmd\n",
    "    \n",
    "    def build_cmd(self, app, script_path, args=\"\"):\n",
    "        \"\"\"For execution on interactive nodes\"\"\"\n",
    "        script_dir, script = os.path.split(script_path)\n",
    "        cmd= \"\"\n",
    "        if script_dir  != '':\n",
    "            cmd += \"cd {}; \".format(script_dir)\n",
    "        cmd += \"{} {} {}\".format(app, script, args)\n",
    "        return self.wrap_cmd_with_source(cmd)\n",
    "    \n",
    "    def submit_job_cmd(self, submit_cmd, app, script_path, args=\"\"):\n",
    "        \"\"\"For batch submissions\"\"\"\n",
    "        script_dir, script = os.path.split(script_path)\n",
    "        cmd= \"\"\n",
    "        if script_dir  != '':\n",
    "            cmd += \"cd {}; \".format(script_dir)\n",
    "        cmd += \"{} {} '{} {}'\".format(submit_cmd, app, script, args)\n",
    "        return self.wrap_cmd_with_source(cmd)\n",
    "        "
   ]
  },
  {
   "cell_type": "code",
   "execution_count": 142,
   "id": "4be762ea",
   "metadata": {},
   "outputs": [],
   "source": [
    "cmd = Commands(source=\"~/.analyzer\")"
   ]
  },
  {
   "cell_type": "code",
   "execution_count": 143,
   "id": "58d79237",
   "metadata": {},
   "outputs": [
    {
     "data": {
      "text/plain": [
       "'source ~/.analyzer; cd'"
      ]
     },
     "execution_count": 143,
     "metadata": {},
     "output_type": "execute_result"
    }
   ],
   "source": [
    "cmd.wrap_cmd_with_source(\"cd\")"
   ]
  },
  {
   "cell_type": "code",
   "execution_count": 144,
   "id": "5d392987",
   "metadata": {},
   "outputs": [
    {
     "data": {
      "text/plain": [
       "'source ~/.analyzer; cd ~/PHD; python main.py 0'"
      ]
     },
     "execution_count": 144,
     "metadata": {},
     "output_type": "execute_result"
    }
   ],
   "source": [
    "cmd.build_cmd(\"python\", \"~/PHD/main.py\", \"0\")"
   ]
  },
  {
   "cell_type": "code",
   "execution_count": 145,
   "id": "522e6618",
   "metadata": {},
   "outputs": [],
   "source": [
    "class MyCommands(Commands):\n",
    "    def __init__(self, source=\"\", submit_cmd=None):\n",
    "        super().__init__(source)\n",
    "        \n",
    "        self.submit_cmd = submit_cmd\n",
    "        \n",
    "        self.interactive = True\n",
    "        if self.submit_cmd:\n",
    "            self.interactive = False\n",
    "        \n",
    "    def run_julia_cmd(self, script_path, args=\"\"):\n",
    "        if  self.interactive:\n",
    "            cmd = self.build_cmd(\"julia\", script_path, args)\n",
    "        else:\n",
    "            cmd = self.submit_job_cmd(self.submit_cmd, \"julia\", script_path, args)\n",
    "        return cmd\n",
    "    \n",
    "    def run_python_cmd(self, script_path, args=\"\"):\n",
    "        if  self.interactive:\n",
    "            cmd = self.build_cmd(\"python\", script_path, args)\n",
    "        else:\n",
    "            cmd = self.submit_job_cmd(self.submit_cmd, \"python\", script_path, args)\n",
    "        return cmd"
   ]
  },
  {
   "cell_type": "code",
   "execution_count": 153,
   "id": "57cd7c0f",
   "metadata": {},
   "outputs": [],
   "source": [
    "mc= MyCommands()"
   ]
  },
  {
   "cell_type": "code",
   "execution_count": 154,
   "id": "6a4e7878",
   "metadata": {},
   "outputs": [
    {
     "data": {
      "text/plain": [
       "'cd ~/PHD; python main.py 0'"
      ]
     },
     "execution_count": 154,
     "metadata": {},
     "output_type": "execute_result"
    }
   ],
   "source": [
    "mc.build_cmd(\"python\", \"~/PHD/main.py\", \"0\")"
   ]
  },
  {
   "cell_type": "code",
   "execution_count": 155,
   "id": "4031390b",
   "metadata": {},
   "outputs": [
    {
     "data": {
      "text/plain": [
       "'cd ~/PhD; julia runner.jl '"
      ]
     },
     "execution_count": 155,
     "metadata": {},
     "output_type": "execute_result"
    }
   ],
   "source": [
    "mc.run_julia_cmd(\"~/PhD/runner.jl\")"
   ]
  },
  {
   "cell_type": "code",
   "execution_count": 156,
   "id": "2ec60e17",
   "metadata": {},
   "outputs": [],
   "source": [
    "mc= MyCommands(source=\"~/.analyzer\", submit_cmd=\"sbatch submit.sh\")"
   ]
  },
  {
   "cell_type": "code",
   "execution_count": 157,
   "id": "0b34ded7",
   "metadata": {},
   "outputs": [
    {
     "data": {
      "text/plain": [
       "\"source ~/.analyzer; cd ~/PhD; sbatch submit.sh julia 'runner.jl '\""
      ]
     },
     "execution_count": 157,
     "metadata": {},
     "output_type": "execute_result"
    }
   ],
   "source": [
    "mc.run_julia_cmd(\"~/PhD/runner.jl\")"
   ]
  },
  {
   "cell_type": "code",
   "execution_count": 172,
   "id": "caf47f39",
   "metadata": {},
   "outputs": [],
   "source": [
    "j_file = \"~/PhD/performance-analyazer/Experiment2/Matrix-Chain-4/variants-linnea/experiments/100_100_100_100_100/runner.jl\""
   ]
  },
  {
   "cell_type": "code",
   "execution_count": 173,
   "id": "e6227caf",
   "metadata": {},
   "outputs": [
    {
     "data": {
      "text/plain": [
       "'source ~/.analyzer; cd ~/PhD/performance-analyazer/Experiment2/Matrix-Chain-4/variants-linnea/experiments/100_100_100_100_100; julia runner.jl '"
      ]
     },
     "execution_count": 173,
     "metadata": {},
     "output_type": "execute_result"
    }
   ],
   "source": [
    "mc= MyCommands(source=\"~/.analyzer\")\n",
    "cmd = mc.run_julia_cmd(j_file)\n",
    "cmd"
   ]
  },
  {
   "cell_type": "code",
   "execution_count": 175,
   "id": "4086ef8f",
   "metadata": {},
   "outputs": [
    {
     "name": "stdout",
     "output_type": "stream",
     "text": [
      "source ~/.analyzer; cd ~/PhD/performance-analyazer/Experiment2/Matrix-Chain-4/variants-linnea/experiments/100_100_100_100_100; julia runner.jl \n"
     ]
    }
   ],
   "source": [
    "out, ret_code = bm.run_cmd(cmd)"
   ]
  },
  {
   "cell_type": "code",
   "execution_count": 176,
   "id": "4142882e",
   "metadata": {},
   "outputs": [
    {
     "data": {
      "text/plain": [
       "[]"
      ]
     },
     "execution_count": 176,
     "metadata": {},
     "output_type": "execute_result"
    }
   ],
   "source": [
    "out.readlines()"
   ]
  },
  {
   "cell_type": "code",
   "execution_count": null,
   "id": "eaa335e7",
   "metadata": {},
   "outputs": [],
   "source": []
  }
 ],
 "metadata": {
  "kernelspec": {
   "display_name": "Python 3 (ipykernel)",
   "language": "python",
   "name": "python3"
  },
  "language_info": {
   "codemirror_mode": {
    "name": "ipython",
    "version": 3
   },
   "file_extension": ".py",
   "mimetype": "text/x-python",
   "name": "python",
   "nbconvert_exporter": "python",
   "pygments_lexer": "ipython3",
   "version": "3.9.7"
  }
 },
 "nbformat": 4,
 "nbformat_minor": 5
}
